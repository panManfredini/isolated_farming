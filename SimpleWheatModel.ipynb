{
 "cells": [
  {
   "cell_type": "markdown",
   "metadata": {},
   "source": [
    "# SIMPLE model for simulation growth of wheat\n",
    "\n",
    "#### taken from:\n",
    "\n",
    "[1] https://www.researchgate.net/publication/331446151_A_SIMPLE_crop_model\n",
    "\n",
    "[2] https://www.pnas.org/content/pnas/117/32/19131.full.pdf\n"
   ]
  },
  {
   "cell_type": "code",
   "execution_count": 1,
   "metadata": {},
   "outputs": [],
   "source": [
    "import math\n",
    "\n",
    "class simpleWheat:\n",
    "    \n",
    "    def __init__(self):\n",
    "        \n",
    "        self.RUE = 1.5  # g/MJ  according to [2] but 1.24 according to [1]\n",
    "        self.Harvest_idx = 0.38 # from [2]\n",
    "        self.biomass_cum = 0\n",
    "        self.f_solar_max = 0.95 # from [1]\n",
    "        self.termal_time_current = 0\n",
    "        self.t_opt = 15 # celsius\n",
    "        self.t_base = 0 # celsius\n",
    "        self.temp_time_increment =  self.t_opt - self.t_base # increment per day\n",
    "        self.s_co2 = 0.08 # from [1]\n",
    "        self.t_sum = 1600 # termal time from sowing to maturity in dayly mean temp, from [2]\n",
    "        self.I_50_a = 200 # termal time, [2]\n",
    "        self.I_50_b = 200 # termal time, [2]\n",
    "        \n",
    "    \n",
    "    def Yield(self):\n",
    "        return self.biomass_cum * self.Harvest_idx\n",
    "    \n",
    "    def f_solar(self, TT):\n",
    "        x = -0.01 * ( TT - self.I_50_a )\n",
    "        if TT > (self.t_sum - 4* self.I_50_b) :\n",
    "            x = 0.01 * ( TT - (self.t_sum - self.I_50_b) )\n",
    "            \n",
    "        den = 1 + math.exp(x)\n",
    "        return self.f_solar_max / den\n",
    "    \n",
    "    def f_co2(self):\n",
    "        return ( 1 + 350 * self.s_co2 )\n",
    "    \n",
    "    # Formula (3) in [1] \n",
    "    # here we assume optimal conditions so:\n",
    "    # f_heat, f_water, f_temp = 1\n",
    "    def biomassRate(self, sun_flux, TT):\n",
    "        # sun_flux is in MJ\n",
    "        bio_g_per_m2_s = sun_flux * self.f_solar(TT) * self.RUE * self.f_co2()\n",
    "        return bio_g_per_m2_s\n",
    "    \n",
    "        "
   ]
  },
  {
   "cell_type": "code",
   "execution_count": 2,
   "metadata": {},
   "outputs": [
    {
     "data": {
      "image/png": "[encoded data removed]",
      "text/plain": [
       "<Figure size 432x288 with 1 Axes>"
      ]
     },
     "metadata": {
      "needs_background": "light"
     },
     "output_type": "display_data"
    },
    {
     "name": "stdout",
     "output_type": "stream",
     "text": [
      "51.80359653880324\n"
     ]
    }
   ],
   "source": [
    "from matplotlib import pyplot as plt \n",
    "w = simpleWheat()\n",
    "TT = range(0,2000, int(15 * 20/14) )\n",
    "d = list(range(1, len(TT) +1))\n",
    "\n",
    "y = []\n",
    "for x in TT:\n",
    "    y.append(w.f_solar(x))\n",
    "\n",
    "fsolar = y[0:70]\n",
    "fsolar_cum = 0\n",
    "for f in fsolar:\n",
    "    fsolar_cum = fsolar_cum + f\n",
    "\n",
    "plt.plot(d,y)\n",
    "plt.show()\n",
    "print(fsolar_cum)"
   ]
  },
  {
   "cell_type": "code",
   "execution_count": 3,
   "metadata": {},
   "outputs": [
    {
     "name": "stdout",
     "output_type": "stream",
     "text": [
      "14.764025013558923\n"
     ]
    }
   ],
   "source": [
    "# bumblgee \n",
    "irradiance_b = 50 # MJ/m^2/day\n",
    "day_to_mature_b = fsolar_cum\n",
    "RUE_b = 1.5 # g/MJ\n",
    "harvest_index = 0.38\n",
    "\n",
    "biomass_b_m2 = irradiance_b * RUE_b * day_to_mature_b * harvest_index # g/m^2\n",
    "biomass_hec = biomass_b_m2 * 10000  * 1E-6 # tonne/hectar\n",
    "print(biomass_hec)"
   ]
  },
  {
   "cell_type": "code",
   "execution_count": 4,
   "metadata": {},
   "outputs": [
    {
     "data": {
      "text/plain": [
       "14.44"
      ]
     },
     "execution_count": 4,
     "metadata": {},
     "output_type": "execute_result"
    }
   ],
   "source": [
    "3.8*10000 / 1000 * harvest_index"
   ]
  },
  {
   "cell_type": "markdown",
   "metadata": {},
   "source": [
    "# Notes\n",
    "\n",
    "The above model makes very little sense because it takes as main ingredient the time-temperature, how long it takes from seed to harvest is in this form. It makes sense for stuff outside since major player is actually temperature, but for indoor is not any more and other factors dominate, for example the f_solar must be a function of growth not temperature.\n",
    "\n",
    "Untill I find a better way, we need to stick to the following back of envelope calculation:"
   ]
  },
  {
   "cell_type": "code",
   "execution_count": 5,
   "metadata": {},
   "outputs": [
    {
     "name": "stdout",
     "output_type": "stream",
     "text": [
      "how many times better than swiss ha per ha 19.62545955882353\n"
     ]
    }
   ],
   "source": [
    "maximum_harvest_per_ha = 39 # tonne/ha [2] \n",
    "# handwavingly, they also modify temp_time_increment because of more hour of light exposure in a day (we cant)\n",
    "number_harvest_year =  365 / ( w.t_sum / w.temp_time_increment ) \n",
    "yearly_yield = maximum_harvest_per_ha * number_harvest_year # tonne / ha\n",
    "\n",
    "swiss_yield_per_ha = 6.8 # tonne/ha -  https://www.indexmundi.com/facts/switzerland/indicator/AG.YLD.CREL.KG\n",
    "\n",
    "effective_factor = yearly_yield / swiss_yield_per_ha\n",
    "print(\"how many times better than swiss ha per ha\", effective_factor)"
   ]
  },
  {
   "cell_type": "code",
   "execution_count": 6,
   "metadata": {},
   "outputs": [
    {
     "name": "stdout",
     "output_type": "stream",
     "text": [
      "solar panel area needed for 1 m^2 of wheat 1.742621527777778\n"
     ]
    }
   ],
   "source": [
    "average_solar_irradiance_sud_CH_day = 1600 / 365 # kWh/m^2   - https://www.swissolar.ch/en/about-solar/facts-and-figures/infographics/#:~:text=Solar%20radiation%20in%20Switzerland,energy%20consumption%20of%20our%20country.\n",
    "\n",
    "kwh_to_MJ = 3.6 # MJ/kWh\n",
    "\n",
    "# this is because I already considered above a reduced number of harvest, otherwise 5 harvests\n",
    "corrected_irradiance_b = irradiance_b / 20 * 11 # 20 hours bumb vs 11 hours average day (over year)\n",
    "\n",
    "average_area_to_equal_b_irradiance = corrected_irradiance_b / ( average_solar_irradiance_sud_CH_day * kwh_to_MJ )\n",
    "\n",
    "print(\"solar panel area needed for 1 m^2 of wheat\", average_area_to_equal_b_irradiance)\n"
   ]
  },
  {
   "cell_type": "code",
   "execution_count": 7,
   "metadata": {},
   "outputs": [
    {
     "name": "stdout",
     "output_type": "stream",
     "text": [
      "hectar equivalent [m^2] 887.9392212725547\n",
      "final gain factor 11.262032085561495\n"
     ]
    }
   ],
   "source": [
    "one_hectar = 10000 # m^2\n",
    "instrumented_area_hectar_equivalent = one_hectar / effective_factor * average_area_to_equal_b_irradiance\n",
    "print(\"hectar equivalent [m^2]\", instrumented_area_hectar_equivalent)\n",
    "print(\"final gain factor\", one_hectar / instrumented_area_hectar_equivalent)"
   ]
  },
  {
   "cell_type": "code",
   "execution_count": 8,
   "metadata": {},
   "outputs": [
    {
     "name": "stdout",
     "output_type": "stream",
     "text": [
      "numper of pods per ha  28.263983246139063\n"
     ]
    }
   ],
   "source": [
    "pod_area = 2 * math.pi * 5\n",
    "pod_per_hectar_equivalent = instrumented_area_hectar_equivalent / pod_area\n",
    "print(\"numper of pods per ha \", pod_per_hectar_equivalent)"
   ]
  },
  {
   "cell_type": "code",
   "execution_count": 10,
   "metadata": {},
   "outputs": [
    {
     "name": "stdout",
     "output_type": "stream",
     "text": [
      "cost per instrumented ha kCHF 141\n"
     ]
    }
   ],
   "source": [
    "cost_per_pod = 5000 #chf optimistic (see other notebook for a break down)\n",
    "cost_per_ha = pod_per_hectar_equivalent * cost_per_pod\n",
    "print(\"cost per instrumented ha kCHF\", int(cost_per_ha / 1000) )"
   ]
  },
  {
   "cell_type": "code",
   "execution_count": null,
   "metadata": {},
   "outputs": [],
   "source": []
  }
 ],
 "metadata": {
  "kernelspec": {
   "display_name": "Python 3",
   "language": "python",
   "name": "python3"
  },
  "language_info": {
   "codemirror_mode": {
    "name": "ipython",
    "version": 3
   },
   "file_extension": ".py",
   "mimetype": "text/x-python",
   "name": "python",
   "nbconvert_exporter": "python",
   "pygments_lexer": "ipython3",
   "version": "3.8.5"
  }
 },
 "nbformat": 4,
 "nbformat_minor": 4
}
