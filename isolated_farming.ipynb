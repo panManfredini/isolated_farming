{
 "cells": [
  {
   "cell_type": "markdown",
   "metadata": {},
   "source": [
    "# Isolated Farming Idea Coputations and References"
   ]
  },
  {
   "cell_type": "markdown",
   "metadata": {},
   "source": [
    "### Short Description\n",
    "\n",
    "Vertical farming is becaming a fancy word and it seems very successfull, one can obtain very large (up to a factor 500 ro more) increase in efficiency of production of almost any vegetables. This has to do in mostly with enhanced efficiency of photosintesis [[1](https://www.nature.com/articles/ncomms12699)] that can be achieved in controlled conditions. See next cell for details on the calculation of the factor 500.\n",
    "\n",
    "\n",
    "\n",
    "\n",
    "[1] - https://www.nature.com/articles/ncomms12699\n",
    "\n",
    "[2] - https://www.pnas.org/content/117/32/19131\n",
    "\n",
    "[3] - https://data.worldbank.org/indicator/AG.YLD.CREL.KG\n",
    "\n",
    "[4] - https://www.agriculture.gov.au/abares/research-topics/agricultural-outlook/wheat\n"
   ]
  },
  {
   "cell_type": "code",
   "execution_count": 38,
   "metadata": {},
   "outputs": [
    {
     "name": "stdout",
     "output_type": "stream",
     "text": [
      "Estimated: Outdoor = Indoor /  57\n",
      "Algae: Outdoor = Indoor /  57\n",
      "Wheat: Outdoor = Indoor /  60\n"
     ]
    }
   ],
   "source": [
    "# Computation of efficiency boost of indor farming, from [1,2] above.\n",
    "wheater_conditions = 0.35\n",
    "light_reflection = 0.5\n",
    "sun_light_half_time = 0.5\n",
    "# other_condition = 0.1  # this is up to 0.1, and is because of temperature, etc...\n",
    "green_light_not_absorbed = 0.43 # will not consider this \n",
    "more_harvest = 5 # from [2]\n",
    "\n",
    "boost_factor_est = more_harvest /(wheater_conditions * light_reflection * sun_light_half_time )\n",
    "boost_factor_algae = more_harvest /(wheater_conditions * light_reflection * sun_light_half_time ) #FIXME\n",
    "\n",
    "wheat_per_ha_outdoor = 3.2 # this is tonne/ha according to [2], but [3] says that is 4 t/ha (we can maybe assume better yeald indoor as well)\n",
    "wheat_per_ha_indoor = 194 # tonne/ha [2]\n",
    "boost_factor_wheat = wheat_per_ha_indoor / wheat_per_ha_outdoor\n",
    "\n",
    "\n",
    "print(\"Estimated: Outdoor = Indoor / \", int(boost_factor_est))\n",
    "print(\"Algae: Outdoor = Indoor / \", int(boost_factor_algae)) # FIXME\n",
    "print(\"Wheat: Outdoor = Indoor / \", int(boost_factor_wheat))\n"
   ]
  },
  {
   "cell_type": "code",
   "execution_count": 36,
   "metadata": {},
   "outputs": [
    {
     "name": "stdout",
     "output_type": "stream",
     "text": [
      "1 hectare outoor = Indoor m^2  164\n"
     ]
    }
   ],
   "source": [
    "# Parameters\n",
    "meter = 1\n",
    "hectare = 10000*meter**2\n",
    "acre  = 0.404686 * hectare\n",
    "\n",
    "indoor_ha_equivalent = hectare / boost_factor_wheat\n",
    "print(\"1 hectare outoor = Indoor m^2 \", int(indoor_ha_equivalent) )"
   ]
  },
  {
   "cell_type": "code",
   "execution_count": 37,
   "metadata": {},
   "outputs": [
    {
     "name": "stdout",
     "output_type": "stream",
     "text": [
      "Number of pods equivalent to an hectar (for wheat) 36.65521191294388\n"
     ]
    }
   ],
   "source": [
    "pod_area = 3 * 1.5 * meter**2\n",
    "pod_ha_equivalent = indoor_ha_equivalent / pod_area\n",
    "\n",
    "print(\"Number of pods equivalent to an hectar (for wheat)\", pod_ha_equivalent)"
   ]
  },
  {
   "cell_type": "code",
   "execution_count": 43,
   "metadata": {},
   "outputs": [
    {
     "name": "stdout",
     "output_type": "stream",
     "text": [
      "revenue USD 1ha year wheat  784.0\n",
      " revenue USD per pod year wheat 21.388499999999997\n"
     ]
    }
   ],
   "source": [
    "# revenue per hectar wheat\n",
    "price_per_tonne_wheat = 245 # USD/tonne\n",
    "revenue_wheat_outdoor = price_per_tonne_wheat * wheat_per_ha_outdoor \n",
    "revenue_per_pod_year = revenue_wheat_outdoor / pod_ha_equivalent\n",
    "print(\"revenue USD 1ha year wheat \", revenue_wheat_outdoor)\n",
    "print(\" revenue USD per pod year wheat\", revenue_per_pod_year )"
   ]
  },
  {
   "cell_type": "code",
   "execution_count": 52,
   "metadata": {},
   "outputs": [
    {
     "name": "stdout",
     "output_type": "stream",
     "text": [
      "year needed to repay the pod cost 46.754096827734536\n",
      "kg/pod/year/harvest 17.46\n",
      "cross check  17.459999999999997\n"
     ]
    }
   ],
   "source": [
    "pod_cost = 500\n",
    "pod_costs_operation = 0.5\n",
    "year_to_repay = pod_cost / pod_costs_operation / revenue_per_pod_year\n",
    "print(\"year needed to repay the pod cost\", year_to_repay)\n",
    "print(\"kg/pod/year/harvest\", wheat_per_ha_indoor * 1 * pod_area / hectare * 1000/more_harvest)\n",
    "print(\"cross check \", wheat_per_ha_outdoor / pod_ha_equivalent * 1000 / more_harvest)"
   ]
  },
  {
   "cell_type": "markdown",
   "metadata": {},
   "source": [
    "# TODO\n",
    "- See soy boost and algae boost factors\n",
    "- see cost of electricity for outputting amount of light in [2]"
   ]
  },
  {
   "cell_type": "code",
   "execution_count": null,
   "metadata": {},
   "outputs": [],
   "source": []
  }
 ],
 "metadata": {
  "kernelspec": {
   "display_name": "Python 3",
   "language": "python",
   "name": "python3"
  },
  "language_info": {
   "codemirror_mode": {
    "name": "ipython",
    "version": 3
   },
   "file_extension": ".py",
   "mimetype": "text/x-python",
   "name": "python",
   "nbconvert_exporter": "python",
   "pygments_lexer": "ipython3",
   "version": "3.8.5"
  }
 },
 "nbformat": 4,
 "nbformat_minor": 4
}
