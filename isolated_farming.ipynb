{
 "cells": [
  {
   "cell_type": "markdown",
   "metadata": {},
   "source": [
    "# Isolated Farming Idea Coputations and References"
   ]
  },
  {
   "cell_type": "markdown",
   "metadata": {},
   "source": [
    "### Short Description\n",
    "\n",
    "Vertical farming is becaming a fancy word and it seems very successfull, one can obtain very large (up to a factor 50 ro more) increase in efficiency of production of almost any vegetables. This has to do in mostly with enhanced efficiency of photosintesis [[1](https://www.nature.com/articles/ncomms12699)] that can be achieved in controlled conditions. See next cell for details on the calculation of the factor 50.\n",
    "\n",
    "\n",
    "\n",
    "\n",
    "[1] - https://www.nature.com/articles/ncomms12699\n",
    "\n",
    "[2] - https://www.pnas.org/content/117/32/19131\n",
    "\n",
    "[3] - https://data.worldbank.org/indicator/AG.YLD.CREL.KG\n",
    "\n",
    "[4] - https://www.agriculture.gov.au/abares/research-topics/agricultural-outlook/wheat\n",
    "\n",
    "[5] - https://en.wikipedia.org/wiki/Solar_irradiance#Irradiance_on_Earth's_surface\n"
   ]
  },
  {
   "cell_type": "code",
   "execution_count": 19,
   "metadata": {},
   "outputs": [],
   "source": [
    "# imports\n",
    "import math"
   ]
  },
  {
   "cell_type": "code",
   "execution_count": 20,
   "metadata": {},
   "outputs": [
    {
     "name": "stdout",
     "output_type": "stream",
     "text": [
      "Estimated: Outdoor = Indoor /  57\n",
      "Algae: Outdoor = Indoor /  57\n",
      "Wheat: Outdoor = Indoor /  60\n"
     ]
    }
   ],
   "source": [
    "# Computation of efficiency boost of indor farming, from [1,2] above.\n",
    "wheater_conditions = 0.35\n",
    "light_reflection = 0.5\n",
    "sun_light_half_time = 0.5\n",
    "# other_condition = 0.1  # this is up to 0.1, and is because of temperature, etc...\n",
    "green_light_not_absorbed = 0.43 # will not consider this \n",
    "more_harvest = 5 # from [2]\n",
    "\n",
    "boost_factor_est = more_harvest /(wheater_conditions * light_reflection * sun_light_half_time )\n",
    "boost_factor_algae = more_harvest /(wheater_conditions * light_reflection * sun_light_half_time ) #FIXME\n",
    "\n",
    "wheat_per_ha_outdoor = 3.2 # this is tonne/ha according to [2], but [3] says that is 4 t/ha (we can maybe assume better yeald indoor as well)\n",
    "wheat_per_ha_indoor = 194 # tonne/ha [2]\n",
    "boost_factor_wheat = wheat_per_ha_indoor / wheat_per_ha_outdoor\n",
    "\n",
    "\n",
    "print(\"Estimated: Outdoor = Indoor / \", int(boost_factor_est))\n",
    "print(\"Algae: Outdoor = Indoor / \", int(boost_factor_algae)) # FIXME\n",
    "print(\"Wheat: Outdoor = Indoor / \", int(boost_factor_wheat))\n"
   ]
  },
  {
   "cell_type": "code",
   "execution_count": 21,
   "metadata": {},
   "outputs": [
    {
     "name": "stdout",
     "output_type": "stream",
     "text": [
      "1 hectare outoor = Indoor m^2  164\n"
     ]
    }
   ],
   "source": [
    "# Parameters\n",
    "meter = 1\n",
    "hectare = 10000*meter**2\n",
    "acre  = 0.404686 * hectare\n",
    "\n",
    "indoor_ha_equivalent = hectare / boost_factor_wheat\n",
    "print(\"1 hectare outoor = Indoor m^2 \", int(indoor_ha_equivalent) )"
   ]
  },
  {
   "cell_type": "code",
   "execution_count": 34,
   "metadata": {},
   "outputs": [
    {
     "name": "stdout",
     "output_type": "stream",
     "text": [
      "Number of pods equivalent to an hectar (for wheat) 10.500944698846704\n"
     ]
    }
   ],
   "source": [
    "pod_od_inner  =  1 # m\n",
    "pod_lenght = 5 # m\n",
    "pod_area =  pod_od_inner * math.pi * pod_lenght * meter**2\n",
    "pod_ha_equivalent = indoor_ha_equivalent / pod_area\n",
    "\n",
    "print(\"Number of pods equivalent to an hectar (for wheat)\", pod_ha_equivalent)"
   ]
  },
  {
   "cell_type": "code",
   "execution_count": 23,
   "metadata": {},
   "outputs": [
    {
     "name": "stdout",
     "output_type": "stream",
     "text": [
      "revenue USD 1ha year wheat  784.0\n",
      " revenue USD per pod year wheat 19.012\n"
     ]
    }
   ],
   "source": [
    "# revenue per hectar wheat\n",
    "price_per_tonne_wheat = 245 # USD/tonne\n",
    "revenue_wheat_outdoor = price_per_tonne_wheat * wheat_per_ha_outdoor \n",
    "revenue_per_pod_year = revenue_wheat_outdoor / pod_ha_equivalent\n",
    "print(\"revenue USD 1ha year wheat \", revenue_wheat_outdoor)\n",
    "print(\" revenue USD per pod year wheat\", revenue_per_pod_year )"
   ]
  },
  {
   "cell_type": "code",
   "execution_count": 24,
   "metadata": {},
   "outputs": [
    {
     "name": "stdout",
     "output_type": "stream",
     "text": [
      "year needed to repay the pod cost 52.598358931201346\n",
      "kg/pod/year/harvest 15.520000000000001\n",
      "cross check  15.520000000000001\n"
     ]
    }
   ],
   "source": [
    "pod_cost = 500\n",
    "pod_costs_operation = 0.5\n",
    "year_to_repay = pod_cost / pod_costs_operation / revenue_per_pod_year\n",
    "print(\"year needed to repay the pod cost\", year_to_repay)\n",
    "print(\"kg/pod/year/harvest\", wheat_per_ha_indoor * 1 * pod_area / hectare * 1000/more_harvest)\n",
    "print(\"cross check \", wheat_per_ha_outdoor / pod_ha_equivalent * 1000 / more_harvest)"
   ]
  },
  {
   "cell_type": "markdown",
   "metadata": {},
   "source": [
    "# TODO\n",
    "- See soy boost and algae boost factors\n",
    "- see cost of electricity for outputting amount of light in [2]"
   ]
  },
  {
   "cell_type": "code",
   "execution_count": 25,
   "metadata": {},
   "outputs": [],
   "source": [
    "# cost of electricity for wheat\n",
    "micro = 1E-6\n",
    "nano= 1E-9\n",
    "avogadro = 6.02214076E23\n",
    "\n",
    "\n",
    "def photon_Energy_joule(lambda_nm):\n",
    "    plank = 6.62607015E-34 # Js\n",
    "    c = 299792458 # m/s\n",
    "    E = c * plank / (lambda_nm * nano)\n",
    "    return E\n",
    "\n",
    "def watt_from_Lambda_and_intensity(lambda_nm, intensity_micro_mole):\n",
    "    E_of_photon = photon_Energy_joule(lambda_nm)\n",
    "    return E_of_photon * avogadro * intensity_micro_mole * micro\n",
    "    \n"
   ]
  },
  {
   "cell_type": "code",
   "execution_count": 26,
   "metadata": {},
   "outputs": [
    {
     "name": "stdout",
     "output_type": "stream",
     "text": [
      "photon E [W/m^2] 478\n",
      "electrical power [W]/ m^2  725\n"
     ]
    }
   ],
   "source": [
    "light_watt_needed = watt_from_Lambda_and_intensity(500,2000) # from best on [2]\n",
    "LED_max_efficiency = 0.66 # W/W from [1]\n",
    "LED_low_efficiency = 0.25 # W/W from [1]\n",
    "\n",
    "electrical_power_per_m2 = light_watt_needed / LED_max_efficiency\n",
    "print(\"photon E [W/m^2]\", int(light_watt_needed))\n",
    "print(\"electrical power [W]/ m^2 \",int(electrical_power_per_m2) ) \n",
    "# in agreement with [5] 1000 W/m^2 sun average considering factor 0.5 due to wavelenght absorption"
   ]
  },
  {
   "cell_type": "code",
   "execution_count": 27,
   "metadata": {},
   "outputs": [
    {
     "name": "stdout",
     "output_type": "stream",
     "text": [
      "power per pod [W] 2900\n",
      "cost per year Eur/pod 2328\n",
      "Cost / Revenue 133.6226198439245\n"
     ]
    }
   ],
   "source": [
    "power_per_pod = electrical_power_per_m2 * pod_area\n",
    "energy_price = 0.1 # Eur per KWh\n",
    "print(\"power per pod [W]\", int(power_per_pod))\n",
    "print(\"cost per year Eur/pod\", int(energy_price * power_per_pod/1000 * 22 *365 ))\n",
    "print(\"Cost / Revenue\", energy_price * power_per_pod/1000 * 24 *365 / revenue_per_pod_year)"
   ]
  },
  {
   "cell_type": "markdown",
   "metadata": {},
   "source": [
    "# Soybean\n",
    "\n",
    "Case of soybean is different because is a short-day plant [6].\n",
    "\n",
    "In [8] it says:\n",
    "Since lighting schemes with more than 12-h light are not suitable for short-day crops, but as enhanced photosynthesis rates may shorten cycle durations, we evaluated the impact of light intensity on flowering time and plant morphology for a 10-h lighting scheme. Increasing light intensity above 1000 µmol/m2 s led to a ~ 2 days earlier flowering (21.8 ± 1.1 vs. 23.9 ± 1.1 for light intensity of 500–900 µmol/m2 s) and shorter plant stature. These findings point to a further speed-up option by increasing light intensity, but these subtle changes will come with additional expenses due to higher energy costs and more expensive LED systems. Thus, for a well operating system a light intensity of ~ 500 µmol/m2 s at 50 cm from the light source should suffice to achieve fast generation times on a moderate budget.\n",
    "\n",
    "\n",
    "[6] - https://academic.oup.com/pcp/article/60/1/77/5096780\n",
    "\n",
    "[7] - https://www.frontiersin.org/articles/10.3389/fpls.2018.01952/full\n",
    "\n",
    "[8] - https://link.springer.com/article/10.1007/s00122-020-03601-4\n",
    "\n"
   ]
  },
  {
   "cell_type": "code",
   "execution_count": 28,
   "metadata": {},
   "outputs": [
    {
     "name": "stdout",
     "output_type": "stream",
     "text": [
      "photon E [W/m^2] 119\n",
      "electrical power [W]/ m^2  181\n"
     ]
    }
   ],
   "source": [
    "hours_light_on_day_soy = 14 #h\n",
    "light_intensity_soy = 500 # mu mol/m^2/s  best according to [7-8] \n",
    "\n",
    "light_watt_needed_soy = watt_from_Lambda_and_intensity(500, light_intensity_soy)\n",
    "electrical_power_per_m2_soy = light_watt_needed_soy / LED_max_efficiency\n",
    "print(\"photon E [W/m^2]\", int(light_watt_needed_soy))\n",
    "print(\"electrical power [W]/ m^2 \",int(electrical_power_per_m2_soy) ) "
   ]
  },
  {
   "cell_type": "code",
   "execution_count": 29,
   "metadata": {},
   "outputs": [
    {
     "name": "stdout",
     "output_type": "stream",
     "text": [
      "power per pod [W] 725\n",
      "cost per year Eur/pod 370\n"
     ]
    }
   ],
   "source": [
    "# assumes say ratio as for wheat - reasonable because of [6]\n",
    "power_per_pod_soy = electrical_power_per_m2_soy * pod_area\n",
    "energy_price = 0.1 # Eur per KWh\n",
    "print(\"power per pod [W]\", int(power_per_pod_soy))\n",
    "print(\"cost per year Eur/pod\", int(energy_price * power_per_pod_soy/1000 * hours_light_on_day_soy *365 ))\n",
    "#print(\"Cost / Revenue\", energy_price * power_per_pod_/1000 * 24 *365 / revenue_per_pod_year)"
   ]
  },
  {
   "cell_type": "code",
   "execution_count": 30,
   "metadata": {},
   "outputs": [
    {
     "name": "stdout",
     "output_type": "stream",
     "text": [
      "Revenue soy per pod/year USD 34\n"
     ]
    }
   ],
   "source": [
    "average_yeald_soy_hectare = 3.78 # tonne\n",
    "price_soy_tonne =  379 # USD\n",
    "revenue_per_pod_soy = price_soy_tonne * average_yeald_soy_hectare / pod_ha_equivalent\n",
    "\n",
    "print(\"Revenue soy per pod/year USD\", int(revenue_per_pod_soy))"
   ]
  },
  {
   "cell_type": "markdown",
   "metadata": {},
   "source": [
    "# Construction costs"
   ]
  },
  {
   "cell_type": "code",
   "execution_count": 39,
   "metadata": {},
   "outputs": [
    {
     "name": "stdout",
     "output_type": "stream",
     "text": [
      "mass in kg  122.39959137651195\n"
     ]
    }
   ],
   "source": [
    "ss_density = 7.8 # tonne / m^3\n",
    "ss_lenght = 5 # m\n",
    "ss_OD_inner = 1 # m\n",
    "ss_OD_outer = 1.03 # m  (3cm spacing)\n",
    "ss_thick = 1E-3 # m (0.5mm)\n",
    "\n",
    "\n",
    "def tube_volume(l,od,t):\n",
    "    return math.pi * l * t *(od - t)\n",
    "    \n",
    "ss_tube_mass_inner = ss_density * tube_volume(ss_lenght, ss_OD_inner, ss_thick)\n",
    "ss_tube_mass_outer = ss_density * tube_volume(ss_lenght, ss_OD_outer, ss_thick)\n",
    "\n",
    "print(\"mass in kg \", ss_tube_mass_inner * 1000)"
   ]
  },
  {
   "cell_type": "code",
   "execution_count": 40,
   "metadata": {},
   "outputs": [
    {
     "name": "stdout",
     "output_type": "stream",
     "text": [
      "price per tube $ 151 chamber cost $ 298\n",
      "pod raw cost $ 498\n"
     ]
    }
   ],
   "source": [
    "ss_tube_cost_tonne = 1200 # $ per tonne\n",
    "\n",
    "chamber_cost = ss_tube_cost_tonne * ( ss_tube_mass_inner + ss_tube_mass_outer)\n",
    "flange_cost_prediction = 100 # $ + hope \n",
    "\n",
    "pod_structural_cost = chamber_cost + 2 * flange_cost_prediction\n",
    "\n",
    "print(\"price per tube $\", int(ss_tube_cost_tonne * ss_tube_mass_outer), \"chamber cost $\", int(chamber_cost))\n",
    "print(\"pod raw cost $\", int(pod_structural_cost) )"
   ]
  },
  {
   "cell_type": "code",
   "execution_count": null,
   "metadata": {},
   "outputs": [],
   "source": []
  }
 ],
 "metadata": {
  "kernelspec": {
   "display_name": "Python 3",
   "language": "python",
   "name": "python3"
  },
  "language_info": {
   "codemirror_mode": {
    "name": "ipython",
    "version": 3
   },
   "file_extension": ".py",
   "mimetype": "text/x-python",
   "name": "python",
   "nbconvert_exporter": "python",
   "pygments_lexer": "ipython3",
   "version": "3.8.5"
  }
 },
 "nbformat": 4,
 "nbformat_minor": 4
}
